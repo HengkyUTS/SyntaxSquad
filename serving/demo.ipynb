{
 "cells": [
  {
   "cell_type": "code",
   "execution_count": 4,
   "id": "5942620b",
   "metadata": {},
   "outputs": [
    {
     "data": {
      "text/plain": [
       "{'predictions': [{'gloss': 'forget', 'score': 0.9857568144798279},\n",
       "  {'gloss': 'hat', 'score': 0.014147581532597542},\n",
       "  {'gloss': 'like', 'score': 6.542738992720842e-05},\n",
       "  {'gloss': 'apple', 'score': 2.9119855753378943e-05},\n",
       "  {'gloss': 'orange', 'score': 9.917584975482896e-07}]}"
      ]
     },
     "execution_count": 4,
     "metadata": {},
     "output_type": "execute_result"
    }
   ],
   "source": [
    "import requests\n",
    "import numpy as np\n",
    "\n",
    "url = 'http://127.0.0.1:8000/predict'\n",
    "payload = {\n",
    "    'landmarks': np.random.rand(195, 180, 3).tolist(),\n",
    "    'top_n': 5,\n",
    "}\n",
    "response = requests.post(url, json=payload)\n",
    "response.json()"
   ]
  }
 ],
 "metadata": {
  "kernelspec": {
   "display_name": "Python 3",
   "language": "python",
   "name": "python3"
  },
  "language_info": {
   "codemirror_mode": {
    "name": "ipython",
    "version": 3
   },
   "file_extension": ".py",
   "mimetype": "text/x-python",
   "name": "python",
   "nbconvert_exporter": "python",
   "pygments_lexer": "ipython3",
   "version": "3.11.7"
  }
 },
 "nbformat": 4,
 "nbformat_minor": 5
}
